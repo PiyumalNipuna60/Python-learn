{
  "nbformat": 4,
  "nbformat_minor": 0,
  "metadata": {
    "colab": {
      "provenance": []
    },
    "kernelspec": {
      "name": "python3",
      "display_name": "Python 3"
    },
    "language_info": {
      "name": "python"
    }
  },
  "cells": [
    {
      "cell_type": "markdown",
      "source": [
        "## data type\n",
        "\n",
        "- integer\n",
        "- floal\n",
        "- boolean\n",
        "- complex\n",
        "- string\n",
        "\n",
        "---\n",
        "\n",
        "- list\n",
        "- set\n",
        "- tuple\n",
        "- dictionnary\n"
      ],
      "metadata": {
        "id": "fADTwo95vVMy"
      }
    },
    {
      "cell_type": "code",
      "source": [
        "x=10  #integer\n",
        "print(x)\n",
        "print(type(x))"
      ],
      "metadata": {
        "colab": {
          "base_uri": "https://localhost:8080/"
        },
        "id": "WgvLZc63wQkH",
        "outputId": "b3438230-7e44-492c-9123-096465798cda"
      },
      "execution_count": 5,
      "outputs": [
        {
          "output_type": "stream",
          "name": "stdout",
          "text": [
            "10\n",
            "<class 'int'>\n"
          ]
        }
      ]
    },
    {
      "cell_type": "code",
      "source": [
        "y=20.5  #floal\n",
        "print(y)\n",
        "print(type(y))"
      ],
      "metadata": {
        "colab": {
          "base_uri": "https://localhost:8080/"
        },
        "id": "CN5dBgXQwWlw",
        "outputId": "e3140e03-e0af-4c2c-8c14-d428b3276d88"
      },
      "execution_count": 6,
      "outputs": [
        {
          "output_type": "stream",
          "name": "stdout",
          "text": [
            "20.5\n",
            "<class 'float'>\n"
          ]
        }
      ]
    },
    {
      "cell_type": "code",
      "source": [
        "a=True  #boolean\n",
        "print(a)\n",
        "print(type(a))"
      ],
      "metadata": {
        "colab": {
          "base_uri": "https://localhost:8080/"
        },
        "id": "5PhS6-VuwfBO",
        "outputId": "c92d8c62-f93c-460e-af74-f22e5a55fc1c"
      },
      "execution_count": 9,
      "outputs": [
        {
          "output_type": "stream",
          "name": "stdout",
          "text": [
            "True\n",
            "<class 'bool'>\n"
          ]
        }
      ]
    },
    {
      "cell_type": "code",
      "source": [
        "b=\"piyumal\"  #string\n",
        "print(b)\n",
        "print(type(b))"
      ],
      "metadata": {
        "colab": {
          "base_uri": "https://localhost:8080/"
        },
        "id": "CQ1Mcouswsz-",
        "outputId": "9ffbfedd-53a7-4931-cd0e-34d0a0fc7788"
      },
      "execution_count": 10,
      "outputs": [
        {
          "output_type": "stream",
          "name": "stdout",
          "text": [
            "piyumal\n",
            "<class 'str'>\n"
          ]
        }
      ]
    },
    {
      "cell_type": "code",
      "source": [
        "c=2+3j  #complex\n",
        "print(c)\n",
        "print(type(c))"
      ],
      "metadata": {
        "colab": {
          "base_uri": "https://localhost:8080/"
        },
        "id": "rPPzxFhiw_2u",
        "outputId": "60719890-b4bb-48a4-bc92-59361f53f240"
      },
      "execution_count": 11,
      "outputs": [
        {
          "output_type": "stream",
          "name": "stdout",
          "text": [
            "(2+3j)\n",
            "<class 'complex'>\n"
          ]
        }
      ]
    },
    {
      "cell_type": "code",
      "source": [
        "d=[\"kamal\",\"namal\",\"saman\"]  #list\n",
        "print(d)\n",
        "print(type(d))"
      ],
      "metadata": {
        "colab": {
          "base_uri": "https://localhost:8080/"
        },
        "id": "xcdjM3gyxPdr",
        "outputId": "2b9240a4-6290-4826-ae97-d4ae230d7e0f"
      },
      "execution_count": 13,
      "outputs": [
        {
          "output_type": "stream",
          "name": "stdout",
          "text": [
            "['kamal', 'namal', 'saman']\n",
            "<class 'list'>\n"
          ]
        }
      ]
    },
    {
      "cell_type": "code",
      "source": [
        "my_dict = {}\n",
        "my_dict['Name']=\"piyumal\"\n",
        "my_dict['add']=\"galle\"\n",
        "print(my_dict)\n",
        "print(type(my_dict))"
      ],
      "metadata": {
        "colab": {
          "base_uri": "https://localhost:8080/"
        },
        "id": "UfniuxTwxZyr",
        "outputId": "004b6c13-46c5-4e1c-9767-250af35ff1b4"
      },
      "execution_count": 19,
      "outputs": [
        {
          "output_type": "stream",
          "name": "stdout",
          "text": [
            "galle\n",
            "<class 'str'>\n"
          ]
        }
      ]
    },
    {
      "cell_type": "code",
      "source": [
        "k=10\n",
        "name=\"piyumal\"\n",
        "print(\"my age is \",str(k) , \" my name is \"+name)\n",
        "print(\"my age is \"+str(k) + \" my name is \"+name)\n",
        "print(\"my age is %s my name is %s\" %(k,name))"
      ],
      "metadata": {
        "colab": {
          "base_uri": "https://localhost:8080/"
        },
        "id": "skQzASPUyR1_",
        "outputId": "ae72d380-68f9-4f06-a67a-6c0c2cb7b659"
      },
      "execution_count": 26,
      "outputs": [
        {
          "output_type": "stream",
          "name": "stdout",
          "text": [
            "my age is  10  my name is piyumal\n",
            "my age is 10 my name is piyumal\n",
            "my age is 10 my name is piyumal\n"
          ]
        }
      ]
    },
    {
      "cell_type": "markdown",
      "source": [
        "---\n",
        "#  * input values\n",
        "---"
      ],
      "metadata": {
        "id": "080na-TG1NwA"
      }
    },
    {
      "cell_type": "code",
      "source": [
        "age = input(\"enter your age : \")\n",
        "print(age)\n",
        "print(type(age))"
      ],
      "metadata": {
        "colab": {
          "base_uri": "https://localhost:8080/"
        },
        "id": "1n4ywlg1zXRP",
        "outputId": "51ac9cfa-cc85-423d-bab2-438f1c1d1465"
      },
      "execution_count": 29,
      "outputs": [
        {
          "output_type": "stream",
          "name": "stdout",
          "text": [
            "enter your age : 23\n",
            "23\n",
            "<class 'str'>\n"
          ]
        }
      ]
    },
    {
      "cell_type": "code",
      "source": [
        "age = int(input(\"enter your age : \"))  # convert to integer values\n",
        "print(age)\n",
        "print(type(age))"
      ],
      "metadata": {
        "colab": {
          "base_uri": "https://localhost:8080/"
        },
        "id": "167aAXNr1xFd",
        "outputId": "150a4d27-7ca6-449a-92c4-4ffba191aadf"
      },
      "execution_count": 31,
      "outputs": [
        {
          "output_type": "stream",
          "name": "stdout",
          "text": [
            "enter your age : 23\n",
            "23\n",
            "<class 'int'>\n"
          ]
        }
      ]
    },
    {
      "cell_type": "code",
      "source": [
        "age = float(input(\"enter your age : \"))  # convert to float values\n",
        "print(age)\n",
        "print(type(age))"
      ],
      "metadata": {
        "colab": {
          "base_uri": "https://localhost:8080/"
        },
        "id": "NtawMVPn2CLf",
        "outputId": "8ed14991-fd13-45ac-c66d-95177b05a07f"
      },
      "execution_count": 32,
      "outputs": [
        {
          "output_type": "stream",
          "name": "stdout",
          "text": [
            "enter your age : 23\n",
            "23.0\n",
            "<class 'float'>\n"
          ]
        }
      ]
    }
  ]
}