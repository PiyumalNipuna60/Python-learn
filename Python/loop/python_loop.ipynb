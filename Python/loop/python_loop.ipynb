{
  "nbformat": 4,
  "nbformat_minor": 0,
  "metadata": {
    "colab": {
      "provenance": []
    },
    "kernelspec": {
      "name": "python3",
      "display_name": "Python 3"
    },
    "language_info": {
      "name": "python"
    }
  },
  "cells": [
    {
      "cell_type": "markdown",
      "source": [
        "# loop\n",
        "- for-loop\n",
        "-while loop\n",
        "\n",
        "\n",
        "---\n",
        "# continue and break\n"
      ],
      "metadata": {
        "id": "Cfw1UX3lXqn8"
      }
    },
    {
      "cell_type": "code",
      "source": [
        "print(\"nipuna\")\n",
        "print(\"nipuna\")\n",
        "print(\"nipuna\")\n",
        "print(\"nipuna\")\n",
        "print(\"nipuna\")"
      ],
      "metadata": {
        "colab": {
          "base_uri": "https://localhost:8080/"
        },
        "id": "12_6-WSQXz9B",
        "outputId": "86f9f7e5-8818-44f3-b5ce-1127fa0b85d8"
      },
      "execution_count": 1,
      "outputs": [
        {
          "output_type": "stream",
          "name": "stdout",
          "text": [
            "nipuna\n",
            "nipuna\n",
            "nipuna\n",
            "nipuna\n",
            "nipuna\n"
          ]
        }
      ]
    },
    {
      "cell_type": "code",
      "source": [
        "for i in range(10):\n",
        "  print(\"nipuna\")"
      ],
      "metadata": {
        "colab": {
          "base_uri": "https://localhost:8080/"
        },
        "id": "kl3WjZKyX4A2",
        "outputId": "f56cf2e6-ad74-4eb6-9776-ef79096e346b"
      },
      "execution_count": 3,
      "outputs": [
        {
          "output_type": "stream",
          "name": "stdout",
          "text": [
            "nipuna\n",
            "nipuna\n",
            "nipuna\n",
            "nipuna\n",
            "nipuna\n",
            "nipuna\n",
            "nipuna\n",
            "nipuna\n",
            "nipuna\n",
            "nipuna\n"
          ]
        }
      ]
    },
    {
      "cell_type": "code",
      "source": [
        "x=(\"10\",\"20\",\"30\",\"40\",\"50\")\n",
        "for num in x:\n",
        "  print(num)"
      ],
      "metadata": {
        "colab": {
          "base_uri": "https://localhost:8080/"
        },
        "id": "-W2JzAOgX8Rl",
        "outputId": "6c8e75e7-e9f0-4136-e3b6-b39dab5ec8b1"
      },
      "execution_count": 5,
      "outputs": [
        {
          "output_type": "stream",
          "name": "stdout",
          "text": [
            "10\n",
            "20\n",
            "30\n",
            "40\n",
            "50\n"
          ]
        }
      ]
    },
    {
      "cell_type": "code",
      "source": [
        "x={\"name\":\"kamal\", \"age\":\"20\", \"address\":\"galle\"}\n",
        "for i in x:\n",
        "  print(i)"
      ],
      "metadata": {
        "colab": {
          "base_uri": "https://localhost:8080/"
        },
        "id": "tf14AFAJYh20",
        "outputId": "789f13ab-55c3-4b59-add0-f3149d00548f"
      },
      "execution_count": 8,
      "outputs": [
        {
          "output_type": "stream",
          "name": "stdout",
          "text": [
            "name\n",
            "age\n",
            "address\n"
          ]
        }
      ]
    },
    {
      "cell_type": "code",
      "source": [
        "x={\"name\":\"kamal\", \"age\":\"20\", \"address\":\"galle\"}\n",
        "for i in x.values():\n",
        "  print(i)"
      ],
      "metadata": {
        "colab": {
          "base_uri": "https://localhost:8080/"
        },
        "id": "kl55TsBmYrxE",
        "outputId": "21af5f76-10bf-4595-d5e5-c447162a8dd8"
      },
      "execution_count": 11,
      "outputs": [
        {
          "output_type": "stream",
          "name": "stdout",
          "text": [
            "kamal\n",
            "20\n",
            "galle\n"
          ]
        }
      ]
    },
    {
      "cell_type": "markdown",
      "source": [
        "---\n",
        "\n",
        "- while loop\n",
        "\n",
        "---"
      ],
      "metadata": {
        "id": "asQqkwg5inkg"
      }
    },
    {
      "cell_type": "code",
      "source": [
        "x=5\n",
        "while(x>0):\n",
        "  print(\"piyumal\")\n",
        "  x=x-1\n",
        "print(\"=====\")"
      ],
      "metadata": {
        "colab": {
          "base_uri": "https://localhost:8080/"
        },
        "id": "3Z_Cg6zhZE6j",
        "outputId": "d5cd5eab-2d59-4d0e-9743-c06870cc2f5d"
      },
      "execution_count": 14,
      "outputs": [
        {
          "output_type": "stream",
          "name": "stdout",
          "text": [
            "piyumal\n",
            "piyumal\n",
            "piyumal\n",
            "piyumal\n",
            "piyumal\n",
            "=====\n"
          ]
        }
      ]
    },
    {
      "cell_type": "code",
      "source": [
        "x=1\n",
        "while(x<20):\n",
        "  y=x%2\n",
        "  if(y==0):\n",
        "    print(x,\"is even number.\")\n",
        "  x+=1\n",
        "print(\"========\")"
      ],
      "metadata": {
        "colab": {
          "base_uri": "https://localhost:8080/"
        },
        "id": "ItTn2ZN3i2GF",
        "outputId": "232f20e3-ccb6-4d72-9ffd-700770bc4e3e"
      },
      "execution_count": 21,
      "outputs": [
        {
          "output_type": "stream",
          "name": "stdout",
          "text": [
            "2 is even number.\n",
            "4 is even number.\n",
            "6 is even number.\n",
            "8 is even number.\n",
            "10 is even number.\n",
            "12 is even number.\n",
            "14 is even number.\n",
            "16 is even number.\n",
            "18 is even number.\n",
            "========\n"
          ]
        }
      ]
    },
    {
      "cell_type": "code",
      "source": [
        "for i in range(5):\n",
        "  if(i==3):\n",
        "    continue  # 3 is not print\n",
        "  print(i)\n",
        "  i+=1\n",
        "print(\"--------\")"
      ],
      "metadata": {
        "colab": {
          "base_uri": "https://localhost:8080/"
        },
        "id": "ev992po7joeV",
        "outputId": "bc411d6a-b21e-4b97-de9d-29661b9c0c71"
      },
      "execution_count": 23,
      "outputs": [
        {
          "output_type": "stream",
          "name": "stdout",
          "text": [
            "0\n",
            "1\n",
            "2\n",
            "4\n",
            "--------\n"
          ]
        }
      ]
    },
    {
      "cell_type": "code",
      "source": [
        "for i in range(5):\n",
        "  if(i==3):\n",
        "    break  # loop ekama break vela yanava\n",
        "  print(i)\n",
        "  i+=1\n",
        "print(\"--------\")"
      ],
      "metadata": {
        "colab": {
          "base_uri": "https://localhost:8080/"
        },
        "id": "DwYCyDbLmEEZ",
        "outputId": "944df855-1b3d-40d0-a48e-c75e2d7ba177"
      },
      "execution_count": 25,
      "outputs": [
        {
          "output_type": "stream",
          "name": "stdout",
          "text": [
            "0\n",
            "1\n",
            "2\n",
            "--------\n"
          ]
        }
      ]
    },
    {
      "cell_type": "code",
      "source": [],
      "metadata": {
        "id": "ofrnws8smOTl"
      },
      "execution_count": null,
      "outputs": []
    }
  ]
}