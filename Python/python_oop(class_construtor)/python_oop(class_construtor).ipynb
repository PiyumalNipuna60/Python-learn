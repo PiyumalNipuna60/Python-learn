{
  "nbformat": 4,
  "nbformat_minor": 0,
  "metadata": {
    "colab": {
      "provenance": []
    },
    "kernelspec": {
      "name": "python3",
      "display_name": "Python 3"
    },
    "language_info": {
      "name": "python"
    }
  },
  "cells": [
    {
      "cell_type": "markdown",
      "source": [
        "# OOP\n",
        "- class\n",
        "- _init_ - constructor\n",
        "\n",
        "\n"
      ],
      "metadata": {
        "id": "Cfw1UX3lXqn8"
      }
    },
    {
      "cell_type": "code",
      "source": [
        "class Main:\n",
        "  def say(self):\n",
        "    print(\"hellow\")\n",
        "\n",
        "\n",
        "main=Main()\n",
        "main.say()"
      ],
      "metadata": {
        "colab": {
          "base_uri": "https://localhost:8080/"
        },
        "id": "FHcjBoYQrwe3",
        "outputId": "debbc784-4a85-46ae-c84d-f132cada3b1e"
      },
      "execution_count": null,
      "outputs": [
        {
          "output_type": "stream",
          "name": "stdout",
          "text": [
            "hellow\n"
          ]
        }
      ]
    },
    {
      "cell_type": "code",
      "source": [
        "class Main:\n",
        "  def say(self,name):\n",
        "    print(\"hellow \",name)\n",
        "\n",
        "\n",
        "main=Main()\n",
        "main.say(\"piyumal\")"
      ],
      "metadata": {
        "colab": {
          "base_uri": "https://localhost:8080/"
        },
        "id": "PVnSudzgsiKm",
        "outputId": "f7ce1dbe-4ae5-4ba7-ca92-21f6c6279e6f"
      },
      "execution_count": null,
      "outputs": [
        {
          "output_type": "stream",
          "name": "stdout",
          "text": [
            "hellow  piyumal\n"
          ]
        }
      ]
    },
    {
      "cell_type": "code",
      "source": [
        "class Main:\n",
        "  def say(self,name):\n",
        "    print(\"hellow \",name)\n",
        "\n",
        "\n",
        "main=Main()\n",
        "main.say(\"piyumal\")\n",
        "\n",
        "main=Main()\n",
        "main.say(\"Nipuna\")"
      ],
      "metadata": {
        "colab": {
          "base_uri": "https://localhost:8080/"
        },
        "id": "XCSREWyJsdJ2",
        "outputId": "7807bf66-e9b7-4d98-907c-b210db8bfadb"
      },
      "execution_count": null,
      "outputs": [
        {
          "output_type": "stream",
          "name": "stdout",
          "text": [
            "hellow  piyumal\n",
            "hellow  Nipuna\n"
          ]
        }
      ]
    },
    {
      "cell_type": "code",
      "source": [
        "class Main:\n",
        "  def say(self,name):\n",
        "    x=name\n",
        "    print(\"hellow \",x)\n",
        "\n",
        "\n",
        "main=Main()\n",
        "main.say(\"piyumal\")\n",
        "\n",
        "print(\"name is \",main.x)  #wrong"
      ],
      "metadata": {
        "colab": {
          "base_uri": "https://localhost:8080/",
          "height": 227
        },
        "id": "7iJ36M3TtHQQ",
        "outputId": "77b7a6d6-4beb-4127-959a-ec15bbed874d"
      },
      "execution_count": null,
      "outputs": [
        {
          "output_type": "stream",
          "name": "stdout",
          "text": [
            "hellow  piyumal\n"
          ]
        },
        {
          "output_type": "error",
          "ename": "AttributeError",
          "evalue": "ignored",
          "traceback": [
            "\u001b[0;31m---------------------------------------------------------------------------\u001b[0m",
            "\u001b[0;31mAttributeError\u001b[0m                            Traceback (most recent call last)",
            "\u001b[0;32m<ipython-input-37-3964e5a7fe39>\u001b[0m in \u001b[0;36m<cell line: 10>\u001b[0;34m()\u001b[0m\n\u001b[1;32m      8\u001b[0m \u001b[0mmain\u001b[0m\u001b[0;34m.\u001b[0m\u001b[0msay\u001b[0m\u001b[0;34m(\u001b[0m\u001b[0;34m\"piyumal\"\u001b[0m\u001b[0;34m)\u001b[0m\u001b[0;34m\u001b[0m\u001b[0;34m\u001b[0m\u001b[0m\n\u001b[1;32m      9\u001b[0m \u001b[0;34m\u001b[0m\u001b[0m\n\u001b[0;32m---> 10\u001b[0;31m \u001b[0mprint\u001b[0m\u001b[0;34m(\u001b[0m\u001b[0;34m\"name is \"\u001b[0m\u001b[0;34m,\u001b[0m\u001b[0mmain\u001b[0m\u001b[0;34m.\u001b[0m\u001b[0mx\u001b[0m\u001b[0;34m)\u001b[0m\u001b[0;34m\u001b[0m\u001b[0;34m\u001b[0m\u001b[0m\n\u001b[0m",
            "\u001b[0;31mAttributeError\u001b[0m: 'Main' object has no attribute 'x'"
          ]
        }
      ]
    },
    {
      "cell_type": "code",
      "source": [
        "class Main:\n",
        "  def say(self,name):\n",
        "    x=name\n",
        "    print(\"hellow \",x)\n",
        "\n",
        "\n",
        "main=Main()\n",
        "main.say(\"piyumal\")\n",
        "\n",
        "print(\"name is \",main.self.x)"
      ],
      "metadata": {
        "colab": {
          "base_uri": "https://localhost:8080/",
          "height": 227
        },
        "id": "D5sXbz37tSQF",
        "outputId": "0b024ed1-2058-4854-a929-72d550422a5b"
      },
      "execution_count": null,
      "outputs": [
        {
          "output_type": "stream",
          "name": "stdout",
          "text": [
            "hellow  piyumal\n"
          ]
        },
        {
          "output_type": "error",
          "ename": "AttributeError",
          "evalue": "ignored",
          "traceback": [
            "\u001b[0;31m---------------------------------------------------------------------------\u001b[0m",
            "\u001b[0;31mAttributeError\u001b[0m                            Traceback (most recent call last)",
            "\u001b[0;32m<ipython-input-40-b000de5506d6>\u001b[0m in \u001b[0;36m<cell line: 10>\u001b[0;34m()\u001b[0m\n\u001b[1;32m      8\u001b[0m \u001b[0mmain\u001b[0m\u001b[0;34m.\u001b[0m\u001b[0msay\u001b[0m\u001b[0;34m(\u001b[0m\u001b[0;34m\"piyumal\"\u001b[0m\u001b[0;34m)\u001b[0m\u001b[0;34m\u001b[0m\u001b[0;34m\u001b[0m\u001b[0m\n\u001b[1;32m      9\u001b[0m \u001b[0;34m\u001b[0m\u001b[0m\n\u001b[0;32m---> 10\u001b[0;31m \u001b[0mprint\u001b[0m\u001b[0;34m(\u001b[0m\u001b[0;34m\"name is \"\u001b[0m\u001b[0;34m,\u001b[0m\u001b[0mmain\u001b[0m\u001b[0;34m.\u001b[0m\u001b[0mself\u001b[0m\u001b[0;34m.\u001b[0m\u001b[0mx\u001b[0m\u001b[0;34m)\u001b[0m\u001b[0;34m\u001b[0m\u001b[0;34m\u001b[0m\u001b[0m\n\u001b[0m",
            "\u001b[0;31mAttributeError\u001b[0m: 'Main' object has no attribute 'self'"
          ]
        }
      ]
    },
    {
      "cell_type": "code",
      "source": [
        "class Main:\n",
        "  def say(self,name):\n",
        "    self.x=name\n",
        "    print(\"hellow \",self.x)\n",
        "\n",
        "\n",
        "\n",
        "main=Main()\n",
        "main.say(\"nipuna\")\n",
        "\n",
        "\n",
        "main.x=\"chamara\"\n",
        "print(\"name is \",main.x)"
      ],
      "metadata": {
        "colab": {
          "base_uri": "https://localhost:8080/"
        },
        "id": "MXUC8DiCtmpm",
        "outputId": "312b6ed3-d5ff-4488-9a3b-219773cc626e"
      },
      "execution_count": null,
      "outputs": [
        {
          "output_type": "stream",
          "name": "stdout",
          "text": [
            "hellow  nipuna\n",
            "name is  chamara\n"
          ]
        }
      ]
    },
    {
      "cell_type": "markdown",
      "source": [
        "---\n",
        "- init funtion\n",
        "---"
      ],
      "metadata": {
        "id": "nG3k5q80ySWR"
      }
    },
    {
      "cell_type": "code",
      "source": [
        "class Student():\n",
        "  def __init__(self):   # java vala constructor eka vagemai (object hadana velavedi call venava.)\n",
        "    print(\"hellow\")\n",
        "\n",
        "st1=Student()"
      ],
      "metadata": {
        "colab": {
          "base_uri": "https://localhost:8080/"
        },
        "id": "g3w-6wlZwDYF",
        "outputId": "7134863f-0a12-4be5-c7b9-d6ee11c96a81"
      },
      "execution_count": null,
      "outputs": [
        {
          "output_type": "stream",
          "name": "stdout",
          "text": [
            "hellow\n"
          ]
        }
      ]
    },
    {
      "cell_type": "code",
      "source": [
        "class Student():\n",
        "  def __init__(self,name,age):   # java vala constructor eka vagemai (object hadana velavedi call venava.)\n",
        "    self.name=name\n",
        "    self.age=age\n",
        "\n",
        "st1=Student(\"piyumal\",23)\n",
        "st2=Student(\"nipuna\",24)\n",
        "\n",
        "print(\"Name is \",st1.name,\" and age \",st1.age)\n",
        "print(\"Name is \",st2.name,\" and age \",st2.age)"
      ],
      "metadata": {
        "id": "YBZ13niR10jo",
        "colab": {
          "base_uri": "https://localhost:8080/"
        },
        "outputId": "c1a80060-823e-428e-cba5-908cb13de4c3"
      },
      "execution_count": 1,
      "outputs": [
        {
          "output_type": "stream",
          "name": "stdout",
          "text": [
            "Name is  piyumal  and age  23\n",
            "Name is  nipuna  and age  24\n"
          ]
        }
      ]
    }
  ]
}